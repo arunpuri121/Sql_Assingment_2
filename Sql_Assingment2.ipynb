{
 "cells": [
  {
   "cell_type": "code",
   "execution_count": 1,
   "id": "3163d130",
   "metadata": {},
   "outputs": [],
   "source": [
    "# importing all the necessary libraries\n",
    "\n",
    "import sqlite3\n",
    "import re"
   ]
  },
  {
   "cell_type": "code",
   "execution_count": 2,
   "id": "b1fb0cf2",
   "metadata": {},
   "outputs": [],
   "source": [
    "# creating a data base mail_box and then creating a cursor object\n",
    "\n",
    "mail = sqlite3.connect('mail_box')\n",
    "cursor = mail.cursor()"
   ]
  },
  {
   "cell_type": "code",
   "execution_count": 3,
   "id": "6f5ecb43",
   "metadata": {},
   "outputs": [
    {
     "data": {
      "text/plain": [
       "<sqlite3.Cursor at 0x203de2dc2c0>"
      ]
     },
     "execution_count": 3,
     "metadata": {},
     "output_type": "execute_result"
    }
   ],
   "source": [
    "# Creating Counts table if previously exists\n",
    "\n",
    "cursor.execute('''Drop table if exists Counts''')"
   ]
  },
  {
   "cell_type": "code",
   "execution_count": 4,
   "id": "d84cd8fc",
   "metadata": {},
   "outputs": [
    {
     "data": {
      "text/plain": [
       "<sqlite3.Cursor at 0x203de2dc2c0>"
      ]
     },
     "execution_count": 4,
     "metadata": {},
     "output_type": "execute_result"
    }
   ],
   "source": [
    "# now creating a fresh table Counts\n",
    "\n",
    "cursor.execute('''CREATE TABLE Counts (org TEXT, count INTEGER)''')"
   ]
  },
  {
   "cell_type": "code",
   "execution_count": 5,
   "id": "46d5e486",
   "metadata": {},
   "outputs": [],
   "source": [
    "# logic to fetch all the Organistations name from the tect file \"mbox.txt\" and storing it to the Counts Table\n",
    "\n",
    "fh = open('mbox.txt')\n",
    "\n",
    "for line in fh:\n",
    "    if not line.startswith('From '):\n",
    "        continue\n",
    "    pieces = line.split()[1]\n",
    "    org = pieces.split('@')[1]\n",
    "    \n",
    "    cursor.execute('SELECT count FROM Counts WHERE org = ? ', (org, ))\n",
    "    row = cursor.fetchone()\n",
    "    if row is None:\n",
    "        cursor.execute('''INSERT INTO Counts (org, count) \n",
    "                VALUES ( ?, 1 )''', (org, ))\n",
    "    else : \n",
    "        cursor.execute('UPDATE Counts SET count=count+1 WHERE org = ?', \n",
    "            (org, ))\n"
   ]
  },
  {
   "cell_type": "code",
   "execution_count": 6,
   "id": "c08fcb79",
   "metadata": {},
   "outputs": [
    {
     "name": "stdout",
     "output_type": "stream",
     "text": [
      "iupui.edu 536\n",
      "umich.edu 491\n",
      "indiana.edu 178\n",
      "caret.cam.ac.uk 157\n",
      "vt.edu 110\n",
      "uct.ac.za 96\n",
      "media.berkeley.edu 56\n",
      "ufp.pt 28\n",
      "gmail.com 25\n",
      "et.gatech.edu 17\n",
      "txstate.edu 17\n",
      "whitman.edu 17\n",
      "lancaster.ac.uk 14\n",
      "bu.edu 14\n",
      "stanford.edu 12\n",
      "unicon.net 9\n",
      "loi.nl 9\n",
      "rsmart.com 8\n",
      "ucdavis.edu 1\n",
      "fhda.edu 1\n",
      "utoronto.ca 1\n"
     ]
    }
   ],
   "source": [
    "# printing all the observation in the Counts table in descending order as per count collumn\n",
    "\n",
    "sqlstr = cursor.execute('''SELECT org, count FROM Counts order by count desc''')\n",
    "\n",
    "for row in sqlstr:\n",
    "    print(row[0], row[1])"
   ]
  },
  {
   "cell_type": "code",
   "execution_count": null,
   "id": "4893c995",
   "metadata": {},
   "outputs": [],
   "source": []
  }
 ],
 "metadata": {
  "kernelspec": {
   "display_name": "Python 3 (ipykernel)",
   "language": "python",
   "name": "python3"
  },
  "language_info": {
   "codemirror_mode": {
    "name": "ipython",
    "version": 3
   },
   "file_extension": ".py",
   "mimetype": "text/x-python",
   "name": "python",
   "nbconvert_exporter": "python",
   "pygments_lexer": "ipython3",
   "version": "3.11.5"
  }
 },
 "nbformat": 4,
 "nbformat_minor": 5
}
